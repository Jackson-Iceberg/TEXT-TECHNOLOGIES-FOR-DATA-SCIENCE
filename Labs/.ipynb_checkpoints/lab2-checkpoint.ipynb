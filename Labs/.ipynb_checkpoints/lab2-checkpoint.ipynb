{
 "cells": [
  {
   "cell_type": "code",
   "execution_count": 1,
   "id": "a1bb83e6",
   "metadata": {},
   "outputs": [],
   "source": [
    "from stemming.porter2 import stem"
   ]
  },
  {
   "cell_type": "code",
   "execution_count": 2,
   "id": "fdeb2280",
   "metadata": {},
   "outputs": [],
   "source": [
    "# store the stop words as set.\n",
    "with open(\"englishST.txt\",\"r\") as file:\n",
    "    STOPWORDS=set(file.read().splitlines())"
   ]
  },
  {
   "cell_type": "code",
   "execution_count": 51,
   "id": "d40aa829",
   "metadata": {},
   "outputs": [],
   "source": [
    "with open(\"Quran English translation.txt\",\"r\",encoding = 'utf-8') as file:\n",
    "    quranEnglish = file.read().split(\"\\n\")\n",
    "    \n",
    "# Tokenisation\n",
    "# for i in range(2):\n",
    "for i in range(len(quranEnglish)):\n",
    "\n",
    "    tokens = quranEnglish[i].split(\" \")\n",
    "    newTokens = []\n",
    "\n",
    "    for token in tokens:\n",
    "        # Stopping: remove English stop words\n",
    "        if token in STOPWORDS:\n",
    "            continue\n",
    "        # Case folding: make all text into lower case\n",
    "        token = str.lower(token)\n",
    "        # Normalisation: Stemming the string\n",
    "        token = stem(token)\n",
    "        newTokens.append(token)\n",
    "    if(len(newTokens) != 0):\n",
    "        #     update the quranEnglish\n",
    "        quranEnglish[i] = newTokens\n",
    "    else:\n",
    "        quranEnglish[i] = \"\"\n",
    "\n",
    "with open(\"new Quran English translation.txt\",\"w\",encoding = 'utf-8') as file:\n",
    "    for sentence in quranEnglish:\n",
    "        for word in sentence:\n",
    "            file.write(word+\" \")\n",
    "        file.write(\"\\n\")\n"
   ]
  },
  {
   "cell_type": "code",
   "execution_count": 50,
   "id": "fcddddca",
   "metadata": {},
   "outputs": [],
   "source": [
    "with open(\"Bible.txt\",\"r\",encoding = 'utf-8') as file:\n",
    "    bible = file.read().split(\"\\n\")\n",
    "\n",
    "# Tokenisation\n",
    "for i in range(len(bible)):\n",
    "\n",
    "    tokens = bible[i].split(\" \")\n",
    "    newTokens = []\n",
    "\n",
    "    for token in tokens:\n",
    "        # Stopping: remove English stop words\n",
    "        if token in STOPWORDS:\n",
    "            continue\n",
    "        # Case folding: make all text into lower case\n",
    "        token = str.lower(token)\n",
    "        # Normalisation: Stemming the string\n",
    "        token = stem(token)\n",
    "        newTokens.append(token)\n",
    "    if(len(newTokens) != 0):\n",
    "        #     update the bible\n",
    "        bible[i] = newTokens\n",
    "    else:\n",
    "        bible[i] = \"\"\n",
    "\n",
    "with open(\"New Bible.txt\",\"w\",encoding = 'utf-8') as file:\n",
    "    for sentence in bible:\n",
    "        for word in sentence:\n",
    "            file.write(word+\" \")\n",
    "        file.write(\"\\n\")"
   ]
  },
  {
   "cell_type": "code",
   "execution_count": null,
   "id": "73bd42d0",
   "metadata": {},
   "outputs": [],
   "source": []
  }
 ],
 "metadata": {
  "kernelspec": {
   "display_name": "Python [conda env:ttds] *",
   "language": "python",
   "name": "conda-env-ttds-py"
  },
  "language_info": {
   "codemirror_mode": {
    "name": "ipython",
    "version": 3
   },
   "file_extension": ".py",
   "mimetype": "text/x-python",
   "name": "python",
   "nbconvert_exporter": "python",
   "pygments_lexer": "ipython3",
   "version": "3.9.13"
  }
 },
 "nbformat": 4,
 "nbformat_minor": 5
}
