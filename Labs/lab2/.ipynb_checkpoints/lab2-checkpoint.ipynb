{
 "cells": [
  {
   "cell_type": "code",
   "execution_count": null,
   "id": "69eeaf4c",
   "metadata": {},
   "outputs": [],
   "source": [
    "# my version\n",
    "from stemming.porter2 import stem\n",
    "import nltk\n",
    "import os\n",
    "# store the stop words as set.\n",
    "with open(\"englishST.txt\",\"r\") as file:\n",
    "    STOPWORDS=set(file.read().splitlines())"
   ]
  },
  {
   "cell_type": "code",
   "execution_count": null,
   "id": "8874d408",
   "metadata": {},
   "outputs": [],
   "source": [
    "def preprocessing(filename):\n",
    "    file_content = open(filename).read()\n",
    "    \n",
    "    tokens = nltk.word_tokenize(file_content) # tokenisation\n",
    "    # case folding(convert text into lower case)\n",
    "    # remove stop words\n",
    "    tokens = [token.lower() for token in tokens if token.isalpha() and token not in STOPWORDS]\n",
    "    tokens = [stem(token) for token in tokens] # normalisation:stem\n",
    "    filename = 'output_'+filename[:-4]+'.txt'\n",
    "    f = open(filename, \"a\")\n",
    "    f.write(\"\\n\".join(tokens))\n",
    "    f.close()"
   ]
  },
  {
   "cell_type": "code",
   "execution_count": 10,
   "id": "2f4bbfd8",
   "metadata": {},
   "outputs": [],
   "source": [
    "import xml.etree.ElementTree as ElementTree\n",
    "import re\n",
    "from stemming.porter2 import stem\n",
    "import math\n",
    "import pickle\n",
    "\n",
    "tree = ElementTree.parse('./collections/trec.sample.xml')\n",
    "root = tree.getroot()\n",
    "# for childs in root:\n",
    "#     for i in range(len(childs)):\n",
    "# #         print(childs[i].tag + ': ' + childs[i].text.strip())\n",
    "\n",
    "def xmlTotext(filename):\n",
    "    tree = ElementTree.parse(filename)\n",
    "    root = tree.getroot()\n",
    "    filename = filename[:-4] + '_output' + '.txt'\n",
    "    fil = open(filename, \"a\")\n",
    "    for childs in root:\n",
    "        for i in range(len(childs)):\n",
    "            if childs[i].tag == 'DOCNO':\n",
    "                fil.write(\"ID: \" + childs[i].text.strip()+'\\n')\n",
    "            elif childs[i].tag == 'HEADLINE':\n",
    "                fil.write(\"HEADLINE: \"+ childs[i].text.strip()+'\\n')\n",
    "            elif childs[i].tag == 'TEXT':\n",
    "                fil.write(\"TEXT: \"+ childs[i].text.strip()+'\\n')\n",
    "    fil.close()"
   ]
  },
  {
   "cell_type": "code",
   "execution_count": null,
   "id": "414af2e8",
   "metadata": {},
   "outputs": [],
   "source": []
  }
 ],
 "metadata": {
  "kernelspec": {
   "display_name": "Python [conda env:root] *",
   "language": "python",
   "name": "conda-root-py"
  },
  "language_info": {
   "codemirror_mode": {
    "name": "ipython",
    "version": 3
   },
   "file_extension": ".py",
   "mimetype": "text/x-python",
   "name": "python",
   "nbconvert_exporter": "python",
   "pygments_lexer": "ipython3",
   "version": "3.9.12"
  }
 },
 "nbformat": 4,
 "nbformat_minor": 5
}
