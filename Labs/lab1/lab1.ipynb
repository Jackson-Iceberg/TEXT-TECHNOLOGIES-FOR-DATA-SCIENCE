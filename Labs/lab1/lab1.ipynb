{
 "cells": [
  {
   "cell_type": "code",
   "execution_count": 1,
   "id": "69eeaf4c",
   "metadata": {},
   "outputs": [],
   "source": [
    "# my version\n",
    "from stemming.porter2 import stem\n",
    "import nltk\n",
    "# store the stop words as set.\n",
    "with open(\"englishST.txt\",\"r\") as file:\n",
    "    STOPWORDS=set(file.read().splitlines())\n"
   ]
  },
  {
   "cell_type": "code",
   "execution_count": 2,
   "id": "8874d408",
   "metadata": {},
   "outputs": [],
   "source": [
    "def preprocessing(filename):\n",
    "    file_content = open(filename).read()\n",
    "    tokens = nltk.word_tokenize(file_content) # tokenisation\n",
    "    # case folding(convert text into lower case)\n",
    "    # remove stop words\n",
    "    tokens = [token.lower() for token in tokens if token.isalpha() and token not in STOPWORDS]\n",
    "    tokens = [stem(token) for token in tokens] # normalisation:stem\n",
    "    f = open(\"output_\"+filename, \"a\")\n",
    "    f.write(\"\\n\".join(tokens))\n",
    "    f.close()"
   ]
  },
  {
   "cell_type": "code",
   "execution_count": 3,
   "id": "0fc8fe64",
   "metadata": {},
   "outputs": [],
   "source": [
    "preprocessing(\"Bible.txt\")\n",
    "preprocessing(\"quran.txt\")"
   ]
  }
 ],
 "metadata": {
  "kernelspec": {
   "display_name": "Python [conda env:root] *",
   "language": "python",
   "name": "conda-root-py"
  },
  "language_info": {
   "codemirror_mode": {
    "name": "ipython",
    "version": 3
   },
   "file_extension": ".py",
   "mimetype": "text/x-python",
   "name": "python",
   "nbconvert_exporter": "python",
   "pygments_lexer": "ipython3",
   "version": "3.9.12"
  }
 },
 "nbformat": 4,
 "nbformat_minor": 5
}
